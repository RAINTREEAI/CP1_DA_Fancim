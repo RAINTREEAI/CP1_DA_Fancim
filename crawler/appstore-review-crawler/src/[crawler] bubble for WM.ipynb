{
 "cells": [
  {
   "cell_type": "code",
   "execution_count": 1,
   "metadata": {},
   "outputs": [],
   "source": [
    "# 패키지 import\n",
    "import pandas as pd\n",
    "import xmltodict\n",
    "import requests\n",
    "import os"
   ]
  },
  {
   "cell_type": "code",
   "execution_count": 2,
   "metadata": {},
   "outputs": [],
   "source": [
    "# 리뷰 내용에서 마지막 page의 index를 가져오는 함수\n",
    "def get_url_index(url):\n",
    "    response = requests.get(url).content.decode('utf8')\n",
    "    xml = xmltodict.parse(response)\n",
    "\n",
    "    # 사용자 리뷰 page의 last index 가져오기\n",
    "    last_url = [l['@href'] for l in xml['feed']['link'] if (l['@rel'] == 'last')][0]\n",
    "    last_index = [int(s.replace('page=', '')) for s in last_url.split('/') if ('page=' in s)][0]\n",
    "\n",
    "    return last_index"
   ]
  },
  {
   "cell_type": "code",
   "execution_count": 3,
   "metadata": {},
   "outputs": [],
   "source": [
    "# AppStore에서 Review 전체를 가져오는 함수\n",
    "# https://stackoverflow.com/questions/1090282/api-to-monitor-iphone-app-store-reviews\n",
    "def appstore_crawler(appid, outfile='./appstore_reviews.csv'):\n",
    "    url = 'https://itunes.apple.com/kr/rss/customerreviews/page=1/id=%i/sortby=mostrecent/xml' % appid\n",
    "    \n",
    "    # 예외 처리 1 : Review가 전혀 없는 경우\n",
    "    try:\n",
    "        last_index = get_url_index(url)\n",
    "    except Exception as e:\n",
    "        print (url)\n",
    "        print ('\\tNo Reviews: appid %i' %appid)\n",
    "        print ('\\tException:', e)\n",
    "        return\n",
    "    # Apple RSS Feed URL을 Page 1 ~ last index page까지 Iteration\n",
    "    result = list()\n",
    "    for idx in range(1, last_index+1):\n",
    "        url = \"https://itunes.apple.com/kr/rss/customerreviews/page=%i/id=%i/sortby=mostrecent/xml?urlDesc=/customerreviews/id=%i/sortBy=mostRecent/xml\" % (idx, appid, appid)\n",
    "        print(url)\n",
    "\n",
    "        # 사용자 리뷰 xlm을 다운로드  (한글 깨짐 방지를 위해서 utf8로 인코딩)\n",
    "        response = requests.get(url).content.decode('utf8')\n",
    "\n",
    "        # xml을  dict로 변환, Apple Site에서 xml이 깨져 있는 경우가 있어 예외처리 추가\n",
    "        try:\n",
    "            xml = xmltodict.parse(response)\n",
    "        except Exception as e:\n",
    "            print ('\\tXml Parse Error %s\\n\\tSkip %s :' %(e, url))\n",
    "            continue\n",
    "        \n",
    "        # 사용자 Review가 존재하는지 확인, 리뷰가 없으면 이후 처리를 하지 않음\n",
    "        try:\n",
    "            num_reivews= len(xml['feed']['entry'])\n",
    "        except Exception as e:\n",
    "            print ('\\tNo Entry', e)\n",
    "            continue\n",
    "\n",
    "        # 사용자 리뷰가 단 1개인 경우 XML 처리 시 에러 발생 방지\n",
    "        try:\n",
    "            xml['feed']['entry'][0]['author']['name']\n",
    "            single_reviews = False\n",
    "        except:\n",
    "            #print ('\\tOnly 1 review!!!')\n",
    "            single_reviews = True\n",
    "            pass\n",
    "\n",
    "        # 사용자 리뷰를 list에 저장 \n",
    "        if single_reviews:\n",
    "                result.append({\n",
    "                    'USER': xml['feed']['entry']['author']['name'],\n",
    "                    'DATE': xml['feed']['entry']['updated'],\n",
    "                    'STAR': int(xml['feed']['entry']['im:rating']),\n",
    "                    'LIKE': int(xml['feed']['entry']['im:voteSum']),\n",
    "                    'TITLE': xml['feed']['entry']['title'],\n",
    "                    'REVIEW': xml['feed']['entry']['content'][0]['#text'],\n",
    "                })\n",
    "        else:\n",
    "            for i in range(len(xml['feed']['entry'])):\n",
    "                result.append({\n",
    "                    'USER': xml['feed']['entry'][i]['author']['name'],\n",
    "                    'DATE': xml['feed']['entry'][i]['updated'],\n",
    "                    'STAR': int(xml['feed']['entry'][i]['im:rating']),\n",
    "                    'LIKE': int(xml['feed']['entry'][i]['im:voteSum']),\n",
    "                    'TITLE': xml['feed']['entry'][i]['title'],\n",
    "                    'REVIEW': xml['feed']['entry'][i]['content'][0]['#text'],\n",
    "                })\n",
    "\n",
    "    # 사용자 리뷰 결과 list를 DataFrame을 생성\n",
    "    res_df = pd.DataFrame(result)\n",
    "    # DATE Column은 String에서 Dataframe의 Date로 변환\n",
    "    res_df['DATE'] = pd.to_datetime(res_df['DATE'], format=\"%Y-%m-%dT%H:%M:%S\")\n",
    "    # CSV  파일로 저장, 한글 깨짐을 방지하고 위해서 'utf-8-sig'로 저장, Index column은 저장하지 않음\n",
    "    res_df.to_csv(outfile, encoding='utf-8-sig', index=False)\n",
    "    print ('Save reviews to file: %s \\n' %(outfile))"
   ]
  },
  {
   "cell_type": "code",
   "execution_count": 4,
   "metadata": {},
   "outputs": [
    {
     "name": "stdout",
     "output_type": "stream",
     "text": [
      "https://itunes.apple.com/kr/rss/customerreviews/page=1/id=1549094895/sortby=mostrecent/xml?urlDesc=/customerreviews/id=1549094895/sortBy=mostRecent/xml\n",
      "Save reviews to file: ../dataset/A_review_dataset[bubble for WM].csv \n",
      "\n"
     ]
    }
   ],
   "source": [
    "if __name__ == '__main__':\n",
    "    # https://apps.apple.com/us/app/youtube-watch-listen-stream/id544007664\n",
    "    app_id = 1549094895\n",
    "    outfile = '../dataset/A_review_dataset[bubble for WM].csv'\n",
    "    appstore_crawler(app_id, outfile=outfile)"
   ]
  }
 ],
 "metadata": {
  "kernelspec": {
   "display_name": "Python 3.8.13 ('cp1')",
   "language": "python",
   "name": "python3"
  },
  "language_info": {
   "codemirror_mode": {
    "name": "ipython",
    "version": 3
   },
   "file_extension": ".py",
   "mimetype": "text/x-python",
   "name": "python",
   "nbconvert_exporter": "python",
   "pygments_lexer": "ipython3",
   "version": "3.8.13"
  },
  "orig_nbformat": 4,
  "vscode": {
   "interpreter": {
    "hash": "1b241d49d35c81fe62b274409836c3ae924ddadf4d4d086635f895f4f849da91"
   }
  }
 },
 "nbformat": 4,
 "nbformat_minor": 2
}
